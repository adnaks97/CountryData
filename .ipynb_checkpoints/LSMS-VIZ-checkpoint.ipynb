{
 "cells": [
  {
   "cell_type": "code",
   "execution_count": 1,
   "metadata": {},
   "outputs": [],
   "source": [
    "import pandas as pd\n",
    "import numpy as n\n",
    "import matplotlib.pyplot as plt\n",
    "import seaborn as sns\n",
    "import os"
   ]
  },
  {
   "cell_type": "code",
   "execution_count": 2,
   "metadata": {},
   "outputs": [],
   "source": [
    "os.chdir('Tanzania/LSMS')"
   ]
  },
  {
   "cell_type": "code",
   "execution_count": 3,
   "metadata": {},
   "outputs": [],
   "source": [
    "dfN = pd.read_stata('HH_SEC_N.dta')\n",
    "dfQ = pd.read_stata('HH_SEC_Q1.dta')\n",
    "geo = pd.read_stata('HouseholdGeovars_Y3.dta')"
   ]
  },
  {
   "cell_type": "code",
   "execution_count": 4,
   "metadata": {},
   "outputs": [
    {
     "data": {
      "text/html": [
       "<div>\n",
       "<table border=\"1\" class=\"dataframe\">\n",
       "  <thead>\n",
       "    <tr style=\"text-align: right;\">\n",
       "      <th></th>\n",
       "      <th>occ</th>\n",
       "      <th>y3_hhid</th>\n",
       "      <th>entid</th>\n",
       "      <th>hh_n02_2</th>\n",
       "      <th>hh_n02_3</th>\n",
       "      <th>hh_n03_1</th>\n",
       "      <th>hh_n03_2</th>\n",
       "      <th>hh_n03_3</th>\n",
       "      <th>hh_n03_4</th>\n",
       "      <th>hh_n03_5</th>\n",
       "      <th>...</th>\n",
       "      <th>hh_n15</th>\n",
       "      <th>hh_n16</th>\n",
       "      <th>hh_n17</th>\n",
       "      <th>hh_n18</th>\n",
       "      <th>hh_n19</th>\n",
       "      <th>hh_n20</th>\n",
       "      <th>hh_n21_1</th>\n",
       "      <th>hh_n21_2</th>\n",
       "      <th>hh_n21_3</th>\n",
       "      <th>hh_n21_4</th>\n",
       "    </tr>\n",
       "  </thead>\n",
       "  <tbody>\n",
       "    <tr>\n",
       "      <th>0</th>\n",
       "      <td>1</td>\n",
       "      <td>0001-001</td>\n",
       "      <td>NaN</td>\n",
       "      <td></td>\n",
       "      <td>NaN</td>\n",
       "      <td>NaN</td>\n",
       "      <td>NaN</td>\n",
       "      <td>NaN</td>\n",
       "      <td>NaN</td>\n",
       "      <td>NaN</td>\n",
       "      <td>...</td>\n",
       "      <td>NaN</td>\n",
       "      <td>NaN</td>\n",
       "      <td>NaN</td>\n",
       "      <td>NaN</td>\n",
       "      <td>NaN</td>\n",
       "      <td>NaN</td>\n",
       "      <td>NaN</td>\n",
       "      <td>NaN</td>\n",
       "      <td>NaN</td>\n",
       "      <td>NaN</td>\n",
       "    </tr>\n",
       "    <tr>\n",
       "      <th>1</th>\n",
       "      <td>1</td>\n",
       "      <td>0002-001</td>\n",
       "      <td>NaN</td>\n",
       "      <td></td>\n",
       "      <td>NaN</td>\n",
       "      <td>NaN</td>\n",
       "      <td>NaN</td>\n",
       "      <td>NaN</td>\n",
       "      <td>NaN</td>\n",
       "      <td>NaN</td>\n",
       "      <td>...</td>\n",
       "      <td>NaN</td>\n",
       "      <td>NaN</td>\n",
       "      <td>NaN</td>\n",
       "      <td>NaN</td>\n",
       "      <td>NaN</td>\n",
       "      <td>NaN</td>\n",
       "      <td>NaN</td>\n",
       "      <td>NaN</td>\n",
       "      <td>NaN</td>\n",
       "      <td>NaN</td>\n",
       "    </tr>\n",
       "    <tr>\n",
       "      <th>2</th>\n",
       "      <td>1</td>\n",
       "      <td>0003-001</td>\n",
       "      <td>NaN</td>\n",
       "      <td></td>\n",
       "      <td>NaN</td>\n",
       "      <td>NaN</td>\n",
       "      <td>NaN</td>\n",
       "      <td>NaN</td>\n",
       "      <td>NaN</td>\n",
       "      <td>NaN</td>\n",
       "      <td>...</td>\n",
       "      <td>NaN</td>\n",
       "      <td>NaN</td>\n",
       "      <td>NaN</td>\n",
       "      <td>NaN</td>\n",
       "      <td>NaN</td>\n",
       "      <td>NaN</td>\n",
       "      <td>NaN</td>\n",
       "      <td>NaN</td>\n",
       "      <td>NaN</td>\n",
       "      <td>NaN</td>\n",
       "    </tr>\n",
       "    <tr>\n",
       "      <th>3</th>\n",
       "      <td>1</td>\n",
       "      <td>0003-010</td>\n",
       "      <td>1.0</td>\n",
       "      <td>UUZAJI WA NGUO</td>\n",
       "      <td>RETAIL SALE VIA STALLS AND MARKETS</td>\n",
       "      <td>1.0</td>\n",
       "      <td>NaN</td>\n",
       "      <td>NaN</td>\n",
       "      <td>NaN</td>\n",
       "      <td>NaN</td>\n",
       "      <td>...</td>\n",
       "      <td>0.0</td>\n",
       "      <td>0.0</td>\n",
       "      <td>0.0</td>\n",
       "      <td>75000.0</td>\n",
       "      <td>12.0</td>\n",
       "      <td>220000.0</td>\n",
       "      <td>NO</td>\n",
       "      <td>NO</td>\n",
       "      <td>YES</td>\n",
       "      <td>NO</td>\n",
       "    </tr>\n",
       "    <tr>\n",
       "      <th>4</th>\n",
       "      <td>1</td>\n",
       "      <td>0005-001</td>\n",
       "      <td>NaN</td>\n",
       "      <td></td>\n",
       "      <td>NaN</td>\n",
       "      <td>NaN</td>\n",
       "      <td>NaN</td>\n",
       "      <td>NaN</td>\n",
       "      <td>NaN</td>\n",
       "      <td>NaN</td>\n",
       "      <td>...</td>\n",
       "      <td>NaN</td>\n",
       "      <td>NaN</td>\n",
       "      <td>NaN</td>\n",
       "      <td>NaN</td>\n",
       "      <td>NaN</td>\n",
       "      <td>NaN</td>\n",
       "      <td>NaN</td>\n",
       "      <td>NaN</td>\n",
       "      <td>NaN</td>\n",
       "      <td>NaN</td>\n",
       "    </tr>\n",
       "  </tbody>\n",
       "</table>\n",
       "<p>5 rows × 40 columns</p>\n",
       "</div>"
      ],
      "text/plain": [
       "   occ   y3_hhid  entid        hh_n02_2                            hh_n02_3  \\\n",
       "0    1  0001-001    NaN                                                 NaN   \n",
       "1    1  0002-001    NaN                                                 NaN   \n",
       "2    1  0003-001    NaN                                                 NaN   \n",
       "3    1  0003-010    1.0  UUZAJI WA NGUO  RETAIL SALE VIA STALLS AND MARKETS   \n",
       "4    1  0005-001    NaN                                                 NaN   \n",
       "\n",
       "   hh_n03_1  hh_n03_2  hh_n03_3  hh_n03_4  hh_n03_5   ...     hh_n15  hh_n16  \\\n",
       "0       NaN       NaN       NaN       NaN       NaN   ...        NaN     NaN   \n",
       "1       NaN       NaN       NaN       NaN       NaN   ...        NaN     NaN   \n",
       "2       NaN       NaN       NaN       NaN       NaN   ...        NaN     NaN   \n",
       "3       1.0       NaN       NaN       NaN       NaN   ...        0.0     0.0   \n",
       "4       NaN       NaN       NaN       NaN       NaN   ...        NaN     NaN   \n",
       "\n",
       "   hh_n17   hh_n18  hh_n19    hh_n20  hh_n21_1  hh_n21_2 hh_n21_3 hh_n21_4  \n",
       "0     NaN      NaN     NaN       NaN       NaN       NaN      NaN      NaN  \n",
       "1     NaN      NaN     NaN       NaN       NaN       NaN      NaN      NaN  \n",
       "2     NaN      NaN     NaN       NaN       NaN       NaN      NaN      NaN  \n",
       "3     0.0  75000.0    12.0  220000.0        NO        NO      YES       NO  \n",
       "4     NaN      NaN     NaN       NaN       NaN       NaN      NaN      NaN  \n",
       "\n",
       "[5 rows x 40 columns]"
      ]
     },
     "execution_count": 4,
     "metadata": {},
     "output_type": "execute_result"
    }
   ],
   "source": [
    "dfN.head()"
   ]
  },
  {
   "cell_type": "markdown",
   "metadata": {},
   "source": [
    "# FILE: HH_SEC_N\n",
    "**What was the net income (profit) from your business or businesses in the last we (hh_n14_2)**"
   ]
  },
  {
   "cell_type": "code",
   "execution_count": 21,
   "metadata": {},
   "outputs": [
    {
     "name": "stdout",
     "output_type": "stream",
     "text": [
      "(5759, 40)\n"
     ]
    }
   ],
   "source": [
    "print dfN.shape"
   ]
  },
  {
   "cell_type": "code",
   "execution_count": 7,
   "metadata": {
    "scrolled": true
   },
   "outputs": [
    {
     "data": {
      "text/plain": [
       "0            NaN\n",
       "1            NaN\n",
       "2            NaN\n",
       "3       210000.0\n",
       "4            NaN\n",
       "5            NaN\n",
       "6            NaN\n",
       "7            NaN\n",
       "8            NaN\n",
       "9            NaN\n",
       "10           NaN\n",
       "11       30000.0\n",
       "12       15000.0\n",
       "13           NaN\n",
       "14           NaN\n",
       "15       49000.0\n",
       "16           NaN\n",
       "17           NaN\n",
       "18      240000.0\n",
       "19      116000.0\n",
       "20           NaN\n",
       "21       24000.0\n",
       "22           NaN\n",
       "23           NaN\n",
       "24           NaN\n",
       "25       88000.0\n",
       "26           NaN\n",
       "27      160000.0\n",
       "28        8000.0\n",
       "29       42000.0\n",
       "          ...   \n",
       "5729         NaN\n",
       "5730         NaN\n",
       "5731         NaN\n",
       "5732         NaN\n",
       "5733         NaN\n",
       "5734         NaN\n",
       "5735         NaN\n",
       "5736     20000.0\n",
       "5737     22000.0\n",
       "5738         NaN\n",
       "5739         NaN\n",
       "5740         NaN\n",
       "5741     50000.0\n",
       "5742     22000.0\n",
       "5743     15000.0\n",
       "5744         NaN\n",
       "5745         NaN\n",
       "5746    150000.0\n",
       "5747         NaN\n",
       "5748         NaN\n",
       "5749         NaN\n",
       "5750         NaN\n",
       "5751         NaN\n",
       "5752         NaN\n",
       "5753         NaN\n",
       "5754         NaN\n",
       "5755         NaN\n",
       "5756    120000.0\n",
       "5757    380000.0\n",
       "5758         NaN\n",
       "Name: hh_n14_2, dtype: float64"
      ]
     },
     "execution_count": 7,
     "metadata": {},
     "output_type": "execute_result"
    }
   ],
   "source": [
    "dfN['hh_n14_2']"
   ]
  },
  {
   "cell_type": "markdown",
   "metadata": {},
   "source": [
    "**What was your AVERAGE net monthly income (profit) during the months when you ope (hh_n20)**"
   ]
  },
  {
   "cell_type": "code",
   "execution_count": 8,
   "metadata": {
    "scrolled": true
   },
   "outputs": [
    {
     "data": {
      "text/plain": [
       "0            NaN\n",
       "1            NaN\n",
       "2            NaN\n",
       "3       220000.0\n",
       "4            NaN\n",
       "5            NaN\n",
       "6            NaN\n",
       "7            NaN\n",
       "8            NaN\n",
       "9            NaN\n",
       "10           NaN\n",
       "11       40000.0\n",
       "12       20000.0\n",
       "13           NaN\n",
       "14           NaN\n",
       "15       50000.0\n",
       "16           NaN\n",
       "17           NaN\n",
       "18      240000.0\n",
       "19      116000.0\n",
       "20           NaN\n",
       "21       24000.0\n",
       "22           NaN\n",
       "23           NaN\n",
       "24           NaN\n",
       "25       88000.0\n",
       "26           NaN\n",
       "27      160000.0\n",
       "28        8000.0\n",
       "29       42000.0\n",
       "          ...   \n",
       "5729         NaN\n",
       "5730         NaN\n",
       "5731         NaN\n",
       "5732         NaN\n",
       "5733         NaN\n",
       "5734         NaN\n",
       "5735         NaN\n",
       "5736     80000.0\n",
       "5737     90000.0\n",
       "5738         NaN\n",
       "5739         NaN\n",
       "5740         NaN\n",
       "5741    200000.0\n",
       "5742     88000.0\n",
       "5743     54000.0\n",
       "5744         NaN\n",
       "5745         NaN\n",
       "5746    150000.0\n",
       "5747         NaN\n",
       "5748         NaN\n",
       "5749         NaN\n",
       "5750         NaN\n",
       "5751         NaN\n",
       "5752         NaN\n",
       "5753         NaN\n",
       "5754         NaN\n",
       "5755         NaN\n",
       "5756    120000.0\n",
       "5757    400000.0\n",
       "5758         NaN\n",
       "Name: hh_n20, dtype: float64"
      ]
     },
     "execution_count": 8,
     "metadata": {},
     "output_type": "execute_result"
    }
   ],
   "source": [
    "dfN['hh_n20']"
   ]
  },
  {
   "cell_type": "code",
   "execution_count": 10,
   "metadata": {
    "scrolled": true
   },
   "outputs": [
    {
     "name": "stdout",
     "output_type": "stream",
     "text": [
      "occ            0\n",
      "y3_hhid        0\n",
      "entid       2707\n",
      "hh_n02_2       0\n",
      "hh_n02_3    2736\n",
      "hh_n03_1    2716\n",
      "hh_n03_2    5449\n",
      "hh_n03_3    5700\n",
      "hh_n03_4    5737\n",
      "hh_n03_5    5750\n",
      "hh_n03_6    5757\n",
      "hh_n04_1    2717\n",
      "hh_n04_2    5616\n",
      "hh_n05_1    2718\n",
      "hh_n05_2    5620\n",
      "hh_n06      2718\n",
      "hh_n07_1    2723\n",
      "hh_n07_2    2735\n",
      "hh_n08_1    2724\n",
      "hh_n08_2    5566\n",
      "hh_n08_3    5749\n",
      "hh_n09_1    2720\n",
      "hh_n09_2    5595\n",
      "hh_n10      2736\n",
      "hh_n11      2735\n",
      "hh_n12      2739\n",
      "hh_n13_1    2745\n",
      "hh_n13_2    2744\n",
      "hh_n14_1    2744\n",
      "hh_n14_2    2744\n",
      "hh_n15      2736\n",
      "hh_n16      2736\n",
      "hh_n17      2741\n",
      "hh_n18      2741\n",
      "hh_n19      2734\n",
      "hh_n20      2745\n",
      "hh_n21_1    2735\n",
      "hh_n21_2    2735\n",
      "hh_n21_3    2735\n",
      "hh_n21_4    2735\n",
      "dtype: int64\n"
     ]
    }
   ],
   "source": [
    "print dfN.isnull().sum()\n"
   ]
  },
  {
   "cell_type": "markdown",
   "metadata": {},
   "source": [
    "# FILE: HH_SEC_Q1\n",
    "**What is the total amount of income your household has received in the form of re (hh_q06)**"
   ]
  },
  {
   "cell_type": "code",
   "execution_count": 20,
   "metadata": {},
   "outputs": [
    {
     "name": "stdout",
     "output_type": "stream",
     "text": [
      "(5010, 33)\n"
     ]
    }
   ],
   "source": [
    "print dfQ.shape"
   ]
  },
  {
   "cell_type": "code",
   "execution_count": 13,
   "metadata": {
    "scrolled": true
   },
   "outputs": [
    {
     "name": "stdout",
     "output_type": "stream",
     "text": [
      "2\n"
     ]
    },
    {
     "data": {
      "text/plain": [
       "0            0.0\n",
       "1            0.0\n",
       "2            0.0\n",
       "3            0.0\n",
       "4            0.0\n",
       "5            0.0\n",
       "6            0.0\n",
       "7            0.0\n",
       "8            0.0\n",
       "9            0.0\n",
       "10           0.0\n",
       "11           0.0\n",
       "12           0.0\n",
       "13           0.0\n",
       "14           0.0\n",
       "15           0.0\n",
       "16           0.0\n",
       "17           0.0\n",
       "18      120000.0\n",
       "19           0.0\n",
       "20      100000.0\n",
       "21           0.0\n",
       "22           0.0\n",
       "23           0.0\n",
       "24           0.0\n",
       "25           0.0\n",
       "26           0.0\n",
       "27           0.0\n",
       "28           0.0\n",
       "29           0.0\n",
       "          ...   \n",
       "4980         0.0\n",
       "4981         0.0\n",
       "4982         0.0\n",
       "4983         0.0\n",
       "4984         0.0\n",
       "4985         0.0\n",
       "4986         0.0\n",
       "4987         0.0\n",
       "4988         0.0\n",
       "4989         0.0\n",
       "4990         0.0\n",
       "4991         0.0\n",
       "4992         0.0\n",
       "4993         0.0\n",
       "4994         0.0\n",
       "4995         0.0\n",
       "4996         0.0\n",
       "4997         0.0\n",
       "4998         0.0\n",
       "4999         0.0\n",
       "5000         0.0\n",
       "5001         0.0\n",
       "5002         0.0\n",
       "5003         0.0\n",
       "5004         0.0\n",
       "5005         0.0\n",
       "5006         0.0\n",
       "5007         0.0\n",
       "5008         0.0\n",
       "5009         0.0\n",
       "Name: hh_q06, dtype: float64"
      ]
     },
     "execution_count": 13,
     "metadata": {},
     "output_type": "execute_result"
    }
   ],
   "source": [
    "print dfQ['hh_q06'].isnull().sum()\n",
    "dfQ['hh_q06']"
   ]
  },
  {
   "cell_type": "markdown",
   "metadata": {},
   "source": [
    "**What is the total amount of income your household has received in the form of pr (hh_q07)**"
   ]
  },
  {
   "cell_type": "code",
   "execution_count": 14,
   "metadata": {
    "scrolled": true
   },
   "outputs": [
    {
     "name": "stdout",
     "output_type": "stream",
     "text": [
      "2\n"
     ]
    },
    {
     "data": {
      "text/plain": [
       "0             0.0\n",
       "1             0.0\n",
       "2             0.0\n",
       "3             0.0\n",
       "4             0.0\n",
       "5             0.0\n",
       "6             0.0\n",
       "7             0.0\n",
       "8             0.0\n",
       "9             0.0\n",
       "10            0.0\n",
       "11            0.0\n",
       "12            0.0\n",
       "13            0.0\n",
       "14            0.0\n",
       "15            0.0\n",
       "16            0.0\n",
       "17            0.0\n",
       "18            0.0\n",
       "19            0.0\n",
       "20            0.0\n",
       "21            0.0\n",
       "22            0.0\n",
       "23            0.0\n",
       "24            0.0\n",
       "25            0.0\n",
       "26            0.0\n",
       "27            0.0\n",
       "28            0.0\n",
       "29            0.0\n",
       "          ...    \n",
       "4980          0.0\n",
       "4981          0.0\n",
       "4982          0.0\n",
       "4983          0.0\n",
       "4984          0.0\n",
       "4985          0.0\n",
       "4986          0.0\n",
       "4987          0.0\n",
       "4988      95960.0\n",
       "4989          0.0\n",
       "4990     432000.0\n",
       "4991          0.0\n",
       "4992          0.0\n",
       "4993          0.0\n",
       "4994          0.0\n",
       "4995          0.0\n",
       "4996          0.0\n",
       "4997          0.0\n",
       "4998          0.0\n",
       "4999          0.0\n",
       "5000          0.0\n",
       "5001          0.0\n",
       "5002          0.0\n",
       "5003          0.0\n",
       "5004          0.0\n",
       "5005          0.0\n",
       "5006    1080000.0\n",
       "5007          0.0\n",
       "5008          0.0\n",
       "5009          0.0\n",
       "Name: hh_q07, dtype: float64"
      ]
     },
     "execution_count": 14,
     "metadata": {},
     "output_type": "execute_result"
    }
   ],
   "source": [
    "print dfQ['hh_q07'].isnull().sum()\n",
    "dfQ['hh_q07']"
   ]
  },
  {
   "cell_type": "markdown",
   "metadata": {},
   "source": [
    "**What is the total amount of income your household has received in the form of ot (hh_q08)**"
   ]
  },
  {
   "cell_type": "code",
   "execution_count": 16,
   "metadata": {
    "scrolled": true
   },
   "outputs": [
    {
     "name": "stdout",
     "output_type": "stream",
     "text": [
      "2\n"
     ]
    },
    {
     "data": {
      "text/plain": [
       "0            0.0\n",
       "1            0.0\n",
       "2            0.0\n",
       "3            0.0\n",
       "4            0.0\n",
       "5            0.0\n",
       "6            0.0\n",
       "7            0.0\n",
       "8            0.0\n",
       "9            0.0\n",
       "10           0.0\n",
       "11           0.0\n",
       "12           0.0\n",
       "13           0.0\n",
       "14           0.0\n",
       "15      240000.0\n",
       "16           0.0\n",
       "17           0.0\n",
       "18           0.0\n",
       "19       60000.0\n",
       "20           0.0\n",
       "21           0.0\n",
       "22           0.0\n",
       "23           0.0\n",
       "24           0.0\n",
       "25           0.0\n",
       "26           0.0\n",
       "27           0.0\n",
       "28           0.0\n",
       "29           0.0\n",
       "          ...   \n",
       "4980         0.0\n",
       "4981         0.0\n",
       "4982         0.0\n",
       "4983         0.0\n",
       "4984         0.0\n",
       "4985         0.0\n",
       "4986         0.0\n",
       "4987         0.0\n",
       "4988    951960.0\n",
       "4989         0.0\n",
       "4990         0.0\n",
       "4991         0.0\n",
       "4992         0.0\n",
       "4993         0.0\n",
       "4994         0.0\n",
       "4995         0.0\n",
       "4996         0.0\n",
       "4997         0.0\n",
       "4998         0.0\n",
       "4999         0.0\n",
       "5000         0.0\n",
       "5001         0.0\n",
       "5002         0.0\n",
       "5003         0.0\n",
       "5004         0.0\n",
       "5005         0.0\n",
       "5006         0.0\n",
       "5007         0.0\n",
       "5008         0.0\n",
       "5009         0.0\n",
       "Name: hh_q08, dtype: float64"
      ]
     },
     "execution_count": 16,
     "metadata": {},
     "output_type": "execute_result"
    }
   ],
   "source": [
    "print dfQ['hh_q08'].isnull().sum()\n",
    "dfQ['hh_q08']"
   ]
  },
  {
   "cell_type": "markdown",
   "metadata": {},
   "source": [
    "# FILE: HouseholdGeovars_Y3"
   ]
  },
  {
   "cell_type": "markdown",
   "metadata": {},
   "source": [
    "**GPS Latitude Modified (lat_dd_mod)**"
   ]
  },
  {
   "cell_type": "code",
   "execution_count": 22,
   "metadata": {
    "scrolled": true
   },
   "outputs": [
    {
     "name": "stdout",
     "output_type": "stream",
     "text": [
      "(4988, 50)\n"
     ]
    }
   ],
   "source": [
    "print geo.shape\n"
   ]
  },
  {
   "cell_type": "code",
   "execution_count": 23,
   "metadata": {
    "scrolled": true
   },
   "outputs": [
    {
     "data": {
      "text/plain": [
       "0      -5.085751\n",
       "1      -5.085751\n",
       "2      -5.085751\n",
       "3      -6.860888\n",
       "4      -5.085751\n",
       "5      -5.085751\n",
       "6      -5.085751\n",
       "7      -5.085751\n",
       "8      -5.085751\n",
       "9      -6.456619\n",
       "10     -6.456619\n",
       "11     -6.406026\n",
       "12     -6.456619\n",
       "13     -6.456619\n",
       "14     -6.456619\n",
       "15     -6.456619\n",
       "16     -6.987275\n",
       "17     -6.456619\n",
       "18     -6.456619\n",
       "19     -6.456619\n",
       "20     -6.614009\n",
       "21     -6.614009\n",
       "22     -6.651119\n",
       "23     -6.614009\n",
       "24     -6.614009\n",
       "25     -6.614009\n",
       "26     -6.614009\n",
       "27     -6.711653\n",
       "28     -6.614009\n",
       "29     -6.614009\n",
       "          ...   \n",
       "4958   -5.240218\n",
       "4959   -5.403962\n",
       "4960   -5.403962\n",
       "4961   -5.403962\n",
       "4962   -5.353914\n",
       "4963   -5.403962\n",
       "4964   -5.403962\n",
       "4965   -5.403962\n",
       "4966   -5.403962\n",
       "4967   -5.368369\n",
       "4968   -5.059245\n",
       "4969   -5.368369\n",
       "4970   -5.368369\n",
       "4971   -5.368369\n",
       "4972   -5.368369\n",
       "4973   -5.368369\n",
       "4974   -6.860111\n",
       "4975   -5.368369\n",
       "4976   -5.367533\n",
       "4977   -5.367533\n",
       "4978   -5.367533\n",
       "4979   -5.367533\n",
       "4980   -5.367533\n",
       "4981   -5.950114\n",
       "4982   -5.367533\n",
       "4983   -5.147233\n",
       "4984   -5.367533\n",
       "4985   -6.732558\n",
       "4986   -6.124175\n",
       "4987   -5.367533\n",
       "Name: lat_dd_mod, dtype: float64"
      ]
     },
     "execution_count": 23,
     "metadata": {},
     "output_type": "execute_result"
    }
   ],
   "source": [
    "geo['lat_dd_mod']"
   ]
  },
  {
   "cell_type": "code",
   "execution_count": 24,
   "metadata": {
    "scrolled": true
   },
   "outputs": [
    {
     "data": {
      "text/plain": [
       "0       35.854389\n",
       "1       35.854389\n",
       "2       35.854389\n",
       "3       39.251984\n",
       "4       35.854389\n",
       "5       35.854389\n",
       "6       35.854389\n",
       "7       35.854389\n",
       "8       35.854389\n",
       "9       36.722861\n",
       "10      36.722861\n",
       "11      36.837547\n",
       "12      36.722861\n",
       "13      36.722861\n",
       "14      36.722861\n",
       "15      36.722861\n",
       "16      36.898958\n",
       "17      36.722861\n",
       "18      36.722861\n",
       "19      36.722861\n",
       "20      36.508663\n",
       "21      36.508663\n",
       "22      36.385741\n",
       "23      36.508663\n",
       "24      36.508663\n",
       "25      36.508663\n",
       "26      36.508663\n",
       "27      38.742135\n",
       "28      36.508663\n",
       "29      36.508663\n",
       "          ...    \n",
       "4958    39.791565\n",
       "4959    39.694232\n",
       "4960    39.694232\n",
       "4961    39.694232\n",
       "4962    39.647788\n",
       "4963    39.694232\n",
       "4964    39.694232\n",
       "4965    39.694232\n",
       "4966    39.694232\n",
       "4967    39.702128\n",
       "4968    39.758980\n",
       "4969    39.702128\n",
       "4970    39.702128\n",
       "4971    39.702128\n",
       "4972    39.702128\n",
       "4973    39.702128\n",
       "4974    39.272308\n",
       "4975    39.702128\n",
       "4976    39.664895\n",
       "4977    39.664895\n",
       "4978    39.664895\n",
       "4979    39.664895\n",
       "4980    39.664895\n",
       "4981    39.286742\n",
       "4982    39.664895\n",
       "4983    39.765891\n",
       "4984    39.664895\n",
       "4985    39.224130\n",
       "4986    39.257458\n",
       "4987    39.664895\n",
       "Name: lon_dd_mod, dtype: float64"
      ]
     },
     "execution_count": 24,
     "metadata": {},
     "output_type": "execute_result"
    }
   ],
   "source": [
    "geo['lon_dd_mod']"
   ]
  },
  {
   "cell_type": "markdown",
   "metadata": {},
   "source": [
    "## Unique Identifiers of all files"
   ]
  },
  {
   "cell_type": "code",
   "execution_count": 25,
   "metadata": {
    "scrolled": true
   },
   "outputs": [
    {
     "data": {
      "text/plain": [
       "0       0001-001\n",
       "1       0002-001\n",
       "2       0003-001\n",
       "3       0003-010\n",
       "4       0005-001\n",
       "5       0006-001\n",
       "6       0007-001\n",
       "7       0008-001\n",
       "8       0009-001\n",
       "9       0010-001\n",
       "10      0011-001\n",
       "11      0011-004\n",
       "12      0011-004\n",
       "13      0012-001\n",
       "14      0013-001\n",
       "15      0014-001\n",
       "16      0014-007\n",
       "17      0015-001\n",
       "18      0016-001\n",
       "19      0016-001\n",
       "20      0017-001\n",
       "21      0018-001\n",
       "22      0019-001\n",
       "23      0019-003\n",
       "24      0020-001\n",
       "25      0021-001\n",
       "26      0022-001\n",
       "27      0023-001\n",
       "28      0023-001\n",
       "29      0024-001\n",
       "          ...   \n",
       "5729    3899-001\n",
       "5730    3900-001\n",
       "5731    3901-001\n",
       "5732    3902-001\n",
       "5733    3902-110\n",
       "5734    3903-001\n",
       "5735    3904-001\n",
       "5736    3905-001\n",
       "5737    3906-001\n",
       "5738    3907-001\n",
       "5739    3907-002\n",
       "5740    3908-001\n",
       "5741    3909-001\n",
       "5742    3910-001\n",
       "5743    3911-001\n",
       "5744    3911-002\n",
       "5745    3912-001\n",
       "5746    3913-001\n",
       "5747    3915-001\n",
       "5748    3916-001\n",
       "5749    3917-001\n",
       "5750    3918-001\n",
       "5751    3919-001\n",
       "5752    3919-005\n",
       "5753    3920-001\n",
       "5754    3921-001\n",
       "5755    3922-001\n",
       "5756    3922-108\n",
       "5757    3923-001\n",
       "5758    3924-001\n",
       "Name: y3_hhid, dtype: object"
      ]
     },
     "execution_count": 25,
     "metadata": {},
     "output_type": "execute_result"
    }
   ],
   "source": [
    "dfN['y3_hhid']"
   ]
  },
  {
   "cell_type": "code",
   "execution_count": 26,
   "metadata": {
    "scrolled": true
   },
   "outputs": [
    {
     "data": {
      "text/plain": [
       "0       0001-001\n",
       "1       0002-001\n",
       "2       0003-001\n",
       "3       0003-010\n",
       "4       0005-001\n",
       "5       0006-001\n",
       "6       0007-001\n",
       "7       0008-001\n",
       "8       0009-001\n",
       "9       0010-001\n",
       "10      0011-001\n",
       "11      0011-004\n",
       "12      0012-001\n",
       "13      0013-001\n",
       "14      0014-001\n",
       "15      0014-007\n",
       "16      0015-001\n",
       "17      0016-001\n",
       "18      0017-001\n",
       "19      0018-001\n",
       "20      0019-001\n",
       "21      0019-003\n",
       "22      0020-001\n",
       "23      0021-001\n",
       "24      0022-001\n",
       "25      0023-001\n",
       "26      0024-001\n",
       "27      0025-001\n",
       "28      0026-001\n",
       "29      0027-001\n",
       "          ...   \n",
       "4980    3899-001\n",
       "4981    3900-001\n",
       "4982    3901-001\n",
       "4983    3902-001\n",
       "4984    3902-110\n",
       "4985    3903-001\n",
       "4986    3904-001\n",
       "4987    3905-001\n",
       "4988    3906-001\n",
       "4989    3907-001\n",
       "4990    3907-002\n",
       "4991    3908-001\n",
       "4992    3909-001\n",
       "4993    3910-001\n",
       "4994    3911-001\n",
       "4995    3911-002\n",
       "4996    3912-001\n",
       "4997    3913-001\n",
       "4998    3915-001\n",
       "4999    3916-001\n",
       "5000    3917-001\n",
       "5001    3918-001\n",
       "5002    3919-001\n",
       "5003    3919-005\n",
       "5004    3920-001\n",
       "5005    3921-001\n",
       "5006    3922-001\n",
       "5007    3922-108\n",
       "5008    3923-001\n",
       "5009    3924-001\n",
       "Name: y3_hhid, dtype: object"
      ]
     },
     "execution_count": 26,
     "metadata": {},
     "output_type": "execute_result"
    }
   ],
   "source": [
    "dfQ['y3_hhid']"
   ]
  },
  {
   "cell_type": "code",
   "execution_count": 27,
   "metadata": {
    "scrolled": true
   },
   "outputs": [
    {
     "data": {
      "text/plain": [
       "0       0001-001\n",
       "1       0002-001\n",
       "2       0003-001\n",
       "3       0003-010\n",
       "4       0005-001\n",
       "5       0006-001\n",
       "6       0007-001\n",
       "7       0008-001\n",
       "8       0009-001\n",
       "9       0010-001\n",
       "10      0011-001\n",
       "11      0011-004\n",
       "12      0012-001\n",
       "13      0013-001\n",
       "14      0014-001\n",
       "15      0014-007\n",
       "16      0015-001\n",
       "17      0016-001\n",
       "18      0017-001\n",
       "19      0018-001\n",
       "20      0019-001\n",
       "21      0019-003\n",
       "22      0020-001\n",
       "23      0021-001\n",
       "24      0022-001\n",
       "25      0023-001\n",
       "26      0024-001\n",
       "27      0025-001\n",
       "28      0026-001\n",
       "29      0027-001\n",
       "          ...   \n",
       "4958    3899-001\n",
       "4959    3900-001\n",
       "4960    3901-001\n",
       "4961    3902-001\n",
       "4962    3902-110\n",
       "4963    3903-001\n",
       "4964    3904-001\n",
       "4965    3905-001\n",
       "4966    3906-001\n",
       "4967    3907-001\n",
       "4968    3907-002\n",
       "4969    3908-001\n",
       "4970    3909-001\n",
       "4971    3910-001\n",
       "4972    3911-001\n",
       "4973    3911-002\n",
       "4974    3912-001\n",
       "4975    3913-001\n",
       "4976    3915-001\n",
       "4977    3916-001\n",
       "4978    3917-001\n",
       "4979    3918-001\n",
       "4980    3919-001\n",
       "4981    3919-005\n",
       "4982    3920-001\n",
       "4983    3921-001\n",
       "4984    3922-001\n",
       "4985    3922-108\n",
       "4986    3923-001\n",
       "4987    3924-001\n",
       "Name: y3_hhid, dtype: object"
      ]
     },
     "execution_count": 27,
     "metadata": {},
     "output_type": "execute_result"
    }
   ],
   "source": [
    "geo['y3_hhid']"
   ]
  },
  {
   "cell_type": "code",
   "execution_count": null,
   "metadata": {},
   "outputs": [],
   "source": []
  }
 ],
 "metadata": {
  "kernelspec": {
   "display_name": "Python 2",
   "language": "python",
   "name": "python2"
  },
  "language_info": {
   "codemirror_mode": {
    "name": "ipython",
    "version": 2
   },
   "file_extension": ".py",
   "mimetype": "text/x-python",
   "name": "python",
   "nbconvert_exporter": "python",
   "pygments_lexer": "ipython2",
   "version": "2.7.12"
  }
 },
 "nbformat": 4,
 "nbformat_minor": 2
}
